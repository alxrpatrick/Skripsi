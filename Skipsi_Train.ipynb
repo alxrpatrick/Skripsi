{
 "cells": [
  {
   "cell_type": "markdown",
   "metadata": {},
   "source": [
    "# PART 2: PREDICITON"
   ]
  },
  {
   "cell_type": "markdown",
   "metadata": {},
   "source": [
    "## Importing Preprocessed Data"
   ]
  },
  {
   "cell_type": "code",
   "execution_count": 1,
   "metadata": {},
   "outputs": [],
   "source": [
    "import os\n",
    "import mysql.connector\n",
    "import pandas as pd\n",
    "import numpy as np\n",
    "import matplotlib.pyplot as plt\n",
    "import seaborn as sns\n",
    "import math\n",
    "%matplotlib inline"
   ]
  },
  {
   "cell_type": "code",
   "execution_count": 2,
   "metadata": {
    "scrolled": false
   },
   "outputs": [
    {
     "data": {
      "text/html": [
       "<div>\n",
       "<style scoped>\n",
       "    .dataframe tbody tr th:only-of-type {\n",
       "        vertical-align: middle;\n",
       "    }\n",
       "\n",
       "    .dataframe tbody tr th {\n",
       "        vertical-align: top;\n",
       "    }\n",
       "\n",
       "    .dataframe thead th {\n",
       "        text-align: right;\n",
       "    }\n",
       "</style>\n",
       "<table border=\"1\" class=\"dataframe\">\n",
       "  <thead>\n",
       "    <tr style=\"text-align: right;\">\n",
       "      <th></th>\n",
       "      <th>download</th>\n",
       "      <th>citing_q2th</th>\n",
       "      <th>submitted_2011</th>\n",
       "      <th>submitted_2012</th>\n",
       "      <th>submitted_2013</th>\n",
       "      <th>submitted_2014</th>\n",
       "      <th>submitted_2015</th>\n",
       "      <th>submitted_2016</th>\n",
       "      <th>submitted_2017</th>\n",
       "      <th>submitted_2018</th>\n",
       "      <th>...</th>\n",
       "      <th>abstract_lda_10</th>\n",
       "      <th>abstract_lda_11</th>\n",
       "      <th>abstract_lda_12</th>\n",
       "      <th>abstract_lda_13</th>\n",
       "      <th>abstract_lda_14</th>\n",
       "      <th>abstract_lda_15</th>\n",
       "      <th>abstract_lda_16</th>\n",
       "      <th>abstract_lda_17</th>\n",
       "      <th>abstract_lda_18</th>\n",
       "      <th>abstract_lda_19</th>\n",
       "    </tr>\n",
       "  </thead>\n",
       "  <tbody>\n",
       "    <tr>\n",
       "      <th>0</th>\n",
       "      <td>6.920672</td>\n",
       "      <td>1</td>\n",
       "      <td>0</td>\n",
       "      <td>0</td>\n",
       "      <td>0</td>\n",
       "      <td>0</td>\n",
       "      <td>0</td>\n",
       "      <td>1</td>\n",
       "      <td>0</td>\n",
       "      <td>0</td>\n",
       "      <td>...</td>\n",
       "      <td>0</td>\n",
       "      <td>0</td>\n",
       "      <td>0</td>\n",
       "      <td>0</td>\n",
       "      <td>0</td>\n",
       "      <td>0</td>\n",
       "      <td>0</td>\n",
       "      <td>0</td>\n",
       "      <td>0</td>\n",
       "      <td>0</td>\n",
       "    </tr>\n",
       "    <tr>\n",
       "      <th>1</th>\n",
       "      <td>6.797942</td>\n",
       "      <td>1</td>\n",
       "      <td>0</td>\n",
       "      <td>0</td>\n",
       "      <td>0</td>\n",
       "      <td>0</td>\n",
       "      <td>0</td>\n",
       "      <td>1</td>\n",
       "      <td>0</td>\n",
       "      <td>0</td>\n",
       "      <td>...</td>\n",
       "      <td>0</td>\n",
       "      <td>0</td>\n",
       "      <td>0</td>\n",
       "      <td>0</td>\n",
       "      <td>0</td>\n",
       "      <td>0</td>\n",
       "      <td>0</td>\n",
       "      <td>0</td>\n",
       "      <td>0</td>\n",
       "      <td>0</td>\n",
       "    </tr>\n",
       "    <tr>\n",
       "      <th>2</th>\n",
       "      <td>6.701962</td>\n",
       "      <td>1</td>\n",
       "      <td>0</td>\n",
       "      <td>0</td>\n",
       "      <td>0</td>\n",
       "      <td>0</td>\n",
       "      <td>0</td>\n",
       "      <td>1</td>\n",
       "      <td>0</td>\n",
       "      <td>0</td>\n",
       "      <td>...</td>\n",
       "      <td>0</td>\n",
       "      <td>0</td>\n",
       "      <td>0</td>\n",
       "      <td>0</td>\n",
       "      <td>0</td>\n",
       "      <td>0</td>\n",
       "      <td>0</td>\n",
       "      <td>0</td>\n",
       "      <td>1</td>\n",
       "      <td>0</td>\n",
       "    </tr>\n",
       "    <tr>\n",
       "      <th>3</th>\n",
       "      <td>6.300788</td>\n",
       "      <td>1</td>\n",
       "      <td>0</td>\n",
       "      <td>0</td>\n",
       "      <td>0</td>\n",
       "      <td>0</td>\n",
       "      <td>0</td>\n",
       "      <td>0</td>\n",
       "      <td>1</td>\n",
       "      <td>0</td>\n",
       "      <td>...</td>\n",
       "      <td>0</td>\n",
       "      <td>0</td>\n",
       "      <td>0</td>\n",
       "      <td>0</td>\n",
       "      <td>0</td>\n",
       "      <td>0</td>\n",
       "      <td>0</td>\n",
       "      <td>0</td>\n",
       "      <td>0</td>\n",
       "      <td>0</td>\n",
       "    </tr>\n",
       "    <tr>\n",
       "      <th>4</th>\n",
       "      <td>6.669499</td>\n",
       "      <td>0</td>\n",
       "      <td>0</td>\n",
       "      <td>0</td>\n",
       "      <td>0</td>\n",
       "      <td>0</td>\n",
       "      <td>0</td>\n",
       "      <td>1</td>\n",
       "      <td>0</td>\n",
       "      <td>0</td>\n",
       "      <td>...</td>\n",
       "      <td>0</td>\n",
       "      <td>0</td>\n",
       "      <td>0</td>\n",
       "      <td>0</td>\n",
       "      <td>0</td>\n",
       "      <td>0</td>\n",
       "      <td>0</td>\n",
       "      <td>0</td>\n",
       "      <td>0</td>\n",
       "      <td>0</td>\n",
       "    </tr>\n",
       "    <tr>\n",
       "      <th>...</th>\n",
       "      <td>...</td>\n",
       "      <td>...</td>\n",
       "      <td>...</td>\n",
       "      <td>...</td>\n",
       "      <td>...</td>\n",
       "      <td>...</td>\n",
       "      <td>...</td>\n",
       "      <td>...</td>\n",
       "      <td>...</td>\n",
       "      <td>...</td>\n",
       "      <td>...</td>\n",
       "      <td>...</td>\n",
       "      <td>...</td>\n",
       "      <td>...</td>\n",
       "      <td>...</td>\n",
       "      <td>...</td>\n",
       "      <td>...</td>\n",
       "      <td>...</td>\n",
       "      <td>...</td>\n",
       "      <td>...</td>\n",
       "      <td>...</td>\n",
       "    </tr>\n",
       "    <tr>\n",
       "      <th>1020</th>\n",
       "      <td>1.791926</td>\n",
       "      <td>0</td>\n",
       "      <td>0</td>\n",
       "      <td>0</td>\n",
       "      <td>0</td>\n",
       "      <td>0</td>\n",
       "      <td>0</td>\n",
       "      <td>0</td>\n",
       "      <td>0</td>\n",
       "      <td>0</td>\n",
       "      <td>...</td>\n",
       "      <td>0</td>\n",
       "      <td>0</td>\n",
       "      <td>0</td>\n",
       "      <td>0</td>\n",
       "      <td>0</td>\n",
       "      <td>0</td>\n",
       "      <td>0</td>\n",
       "      <td>0</td>\n",
       "      <td>0</td>\n",
       "      <td>0</td>\n",
       "    </tr>\n",
       "    <tr>\n",
       "      <th>1021</th>\n",
       "      <td>1.386544</td>\n",
       "      <td>0</td>\n",
       "      <td>0</td>\n",
       "      <td>0</td>\n",
       "      <td>0</td>\n",
       "      <td>0</td>\n",
       "      <td>0</td>\n",
       "      <td>0</td>\n",
       "      <td>0</td>\n",
       "      <td>0</td>\n",
       "      <td>...</td>\n",
       "      <td>0</td>\n",
       "      <td>0</td>\n",
       "      <td>0</td>\n",
       "      <td>0</td>\n",
       "      <td>0</td>\n",
       "      <td>0</td>\n",
       "      <td>0</td>\n",
       "      <td>0</td>\n",
       "      <td>0</td>\n",
       "      <td>0</td>\n",
       "    </tr>\n",
       "    <tr>\n",
       "      <th>1022</th>\n",
       "      <td>1.946053</td>\n",
       "      <td>0</td>\n",
       "      <td>0</td>\n",
       "      <td>0</td>\n",
       "      <td>0</td>\n",
       "      <td>0</td>\n",
       "      <td>0</td>\n",
       "      <td>0</td>\n",
       "      <td>0</td>\n",
       "      <td>0</td>\n",
       "      <td>...</td>\n",
       "      <td>0</td>\n",
       "      <td>0</td>\n",
       "      <td>0</td>\n",
       "      <td>0</td>\n",
       "      <td>0</td>\n",
       "      <td>0</td>\n",
       "      <td>0</td>\n",
       "      <td>0</td>\n",
       "      <td>0</td>\n",
       "      <td>0</td>\n",
       "    </tr>\n",
       "    <tr>\n",
       "      <th>1023</th>\n",
       "      <td>1.098946</td>\n",
       "      <td>0</td>\n",
       "      <td>0</td>\n",
       "      <td>0</td>\n",
       "      <td>0</td>\n",
       "      <td>0</td>\n",
       "      <td>0</td>\n",
       "      <td>0</td>\n",
       "      <td>0</td>\n",
       "      <td>0</td>\n",
       "      <td>...</td>\n",
       "      <td>0</td>\n",
       "      <td>0</td>\n",
       "      <td>0</td>\n",
       "      <td>1</td>\n",
       "      <td>0</td>\n",
       "      <td>0</td>\n",
       "      <td>0</td>\n",
       "      <td>0</td>\n",
       "      <td>0</td>\n",
       "      <td>0</td>\n",
       "    </tr>\n",
       "    <tr>\n",
       "      <th>1024</th>\n",
       "      <td>1.609638</td>\n",
       "      <td>0</td>\n",
       "      <td>0</td>\n",
       "      <td>0</td>\n",
       "      <td>0</td>\n",
       "      <td>0</td>\n",
       "      <td>0</td>\n",
       "      <td>0</td>\n",
       "      <td>0</td>\n",
       "      <td>0</td>\n",
       "      <td>...</td>\n",
       "      <td>0</td>\n",
       "      <td>0</td>\n",
       "      <td>0</td>\n",
       "      <td>0</td>\n",
       "      <td>0</td>\n",
       "      <td>0</td>\n",
       "      <td>0</td>\n",
       "      <td>0</td>\n",
       "      <td>0</td>\n",
       "      <td>0</td>\n",
       "    </tr>\n",
       "  </tbody>\n",
       "</table>\n",
       "<p>1025 rows × 91 columns</p>\n",
       "</div>"
      ],
      "text/plain": [
       "      download  citing_q2th  submitted_2011  submitted_2012  submitted_2013  \\\n",
       "0     6.920672            1               0               0               0   \n",
       "1     6.797942            1               0               0               0   \n",
       "2     6.701962            1               0               0               0   \n",
       "3     6.300788            1               0               0               0   \n",
       "4     6.669499            0               0               0               0   \n",
       "...        ...          ...             ...             ...             ...   \n",
       "1020  1.791926            0               0               0               0   \n",
       "1021  1.386544            0               0               0               0   \n",
       "1022  1.946053            0               0               0               0   \n",
       "1023  1.098946            0               0               0               0   \n",
       "1024  1.609638            0               0               0               0   \n",
       "\n",
       "      submitted_2014  submitted_2015  submitted_2016  submitted_2017  \\\n",
       "0                  0               0               1               0   \n",
       "1                  0               0               1               0   \n",
       "2                  0               0               1               0   \n",
       "3                  0               0               0               1   \n",
       "4                  0               0               1               0   \n",
       "...              ...             ...             ...             ...   \n",
       "1020               0               0               0               0   \n",
       "1021               0               0               0               0   \n",
       "1022               0               0               0               0   \n",
       "1023               0               0               0               0   \n",
       "1024               0               0               0               0   \n",
       "\n",
       "      submitted_2018  ...  abstract_lda_10  abstract_lda_11  abstract_lda_12  \\\n",
       "0                  0  ...                0                0                0   \n",
       "1                  0  ...                0                0                0   \n",
       "2                  0  ...                0                0                0   \n",
       "3                  0  ...                0                0                0   \n",
       "4                  0  ...                0                0                0   \n",
       "...              ...  ...              ...              ...              ...   \n",
       "1020               0  ...                0                0                0   \n",
       "1021               0  ...                0                0                0   \n",
       "1022               0  ...                0                0                0   \n",
       "1023               0  ...                0                0                0   \n",
       "1024               0  ...                0                0                0   \n",
       "\n",
       "      abstract_lda_13  abstract_lda_14  abstract_lda_15  abstract_lda_16  \\\n",
       "0                   0                0                0                0   \n",
       "1                   0                0                0                0   \n",
       "2                   0                0                0                0   \n",
       "3                   0                0                0                0   \n",
       "4                   0                0                0                0   \n",
       "...               ...              ...              ...              ...   \n",
       "1020                0                0                0                0   \n",
       "1021                0                0                0                0   \n",
       "1022                0                0                0                0   \n",
       "1023                1                0                0                0   \n",
       "1024                0                0                0                0   \n",
       "\n",
       "      abstract_lda_17  abstract_lda_18  abstract_lda_19  \n",
       "0                   0                0                0  \n",
       "1                   0                0                0  \n",
       "2                   0                1                0  \n",
       "3                   0                0                0  \n",
       "4                   0                0                0  \n",
       "...               ...              ...              ...  \n",
       "1020                0                0                0  \n",
       "1021                0                0                0  \n",
       "1022                0                0                0  \n",
       "1023                0                0                0  \n",
       "1024                0                0                0  \n",
       "\n",
       "[1025 rows x 91 columns]"
      ]
     },
     "execution_count": 2,
     "metadata": {},
     "output_type": "execute_result"
    }
   ],
   "source": [
    "journal_table_csv = pd.read_csv(\"journal_tablen.csv\")\n",
    "journal_table_csv"
   ]
  },
  {
   "cell_type": "code",
   "execution_count": 3,
   "metadata": {},
   "outputs": [
    {
     "data": {
      "text/html": [
       "<div>\n",
       "<style scoped>\n",
       "    .dataframe tbody tr th:only-of-type {\n",
       "        vertical-align: middle;\n",
       "    }\n",
       "\n",
       "    .dataframe tbody tr th {\n",
       "        vertical-align: top;\n",
       "    }\n",
       "\n",
       "    .dataframe thead th {\n",
       "        text-align: right;\n",
       "    }\n",
       "</style>\n",
       "<table border=\"1\" class=\"dataframe\">\n",
       "  <thead>\n",
       "    <tr style=\"text-align: right;\">\n",
       "      <th></th>\n",
       "      <th>Indo</th>\n",
       "      <th>Mix</th>\n",
       "      <th>Non-Indo</th>\n",
       "      <th>Writers</th>\n",
       "      <th>FirstIndo</th>\n",
       "    </tr>\n",
       "  </thead>\n",
       "  <tbody>\n",
       "    <tr>\n",
       "      <th>0</th>\n",
       "      <td>1</td>\n",
       "      <td>0</td>\n",
       "      <td>0</td>\n",
       "      <td>1</td>\n",
       "      <td>1</td>\n",
       "    </tr>\n",
       "    <tr>\n",
       "      <th>1</th>\n",
       "      <td>0</td>\n",
       "      <td>0</td>\n",
       "      <td>1</td>\n",
       "      <td>3</td>\n",
       "      <td>0</td>\n",
       "    </tr>\n",
       "    <tr>\n",
       "      <th>2</th>\n",
       "      <td>1</td>\n",
       "      <td>0</td>\n",
       "      <td>0</td>\n",
       "      <td>3</td>\n",
       "      <td>1</td>\n",
       "    </tr>\n",
       "    <tr>\n",
       "      <th>3</th>\n",
       "      <td>0</td>\n",
       "      <td>0</td>\n",
       "      <td>1</td>\n",
       "      <td>3</td>\n",
       "      <td>0</td>\n",
       "    </tr>\n",
       "    <tr>\n",
       "      <th>4</th>\n",
       "      <td>0</td>\n",
       "      <td>0</td>\n",
       "      <td>1</td>\n",
       "      <td>4</td>\n",
       "      <td>0</td>\n",
       "    </tr>\n",
       "    <tr>\n",
       "      <th>...</th>\n",
       "      <td>...</td>\n",
       "      <td>...</td>\n",
       "      <td>...</td>\n",
       "      <td>...</td>\n",
       "      <td>...</td>\n",
       "    </tr>\n",
       "    <tr>\n",
       "      <th>1020</th>\n",
       "      <td>1</td>\n",
       "      <td>0</td>\n",
       "      <td>0</td>\n",
       "      <td>4</td>\n",
       "      <td>1</td>\n",
       "    </tr>\n",
       "    <tr>\n",
       "      <th>1021</th>\n",
       "      <td>1</td>\n",
       "      <td>0</td>\n",
       "      <td>0</td>\n",
       "      <td>5</td>\n",
       "      <td>1</td>\n",
       "    </tr>\n",
       "    <tr>\n",
       "      <th>1022</th>\n",
       "      <td>0</td>\n",
       "      <td>1</td>\n",
       "      <td>0</td>\n",
       "      <td>4</td>\n",
       "      <td>1</td>\n",
       "    </tr>\n",
       "    <tr>\n",
       "      <th>1023</th>\n",
       "      <td>1</td>\n",
       "      <td>0</td>\n",
       "      <td>0</td>\n",
       "      <td>3</td>\n",
       "      <td>1</td>\n",
       "    </tr>\n",
       "    <tr>\n",
       "      <th>1024</th>\n",
       "      <td>1</td>\n",
       "      <td>0</td>\n",
       "      <td>0</td>\n",
       "      <td>1</td>\n",
       "      <td>1</td>\n",
       "    </tr>\n",
       "  </tbody>\n",
       "</table>\n",
       "<p>1025 rows × 5 columns</p>\n",
       "</div>"
      ],
      "text/plain": [
       "      Indo  Mix  Non-Indo  Writers  FirstIndo\n",
       "0        1    0         0        1          1\n",
       "1        0    0         1        3          0\n",
       "2        1    0         0        3          1\n",
       "3        0    0         1        3          0\n",
       "4        0    0         1        4          0\n",
       "...    ...  ...       ...      ...        ...\n",
       "1020     1    0         0        4          1\n",
       "1021     1    0         0        5          1\n",
       "1022     0    1         0        4          1\n",
       "1023     1    0         0        3          1\n",
       "1024     1    0         0        1          1\n",
       "\n",
       "[1025 rows x 5 columns]"
      ]
     },
     "execution_count": 3,
     "metadata": {},
     "output_type": "execute_result"
    }
   ],
   "source": [
    "nationality_csv = pd.read_csv(\"nationality.csv\", sep=';')\n",
    "nationality_csv"
   ]
  },
  {
   "cell_type": "raw",
   "metadata": {},
   "source": [
    "nationality_csv[nationality_csv.columns].astype(bool)"
   ]
  },
  {
   "cell_type": "code",
   "execution_count": 4,
   "metadata": {},
   "outputs": [
    {
     "data": {
      "text/html": [
       "<div>\n",
       "<style scoped>\n",
       "    .dataframe tbody tr th:only-of-type {\n",
       "        vertical-align: middle;\n",
       "    }\n",
       "\n",
       "    .dataframe tbody tr th {\n",
       "        vertical-align: top;\n",
       "    }\n",
       "\n",
       "    .dataframe thead th {\n",
       "        text-align: right;\n",
       "    }\n",
       "</style>\n",
       "<table border=\"1\" class=\"dataframe\">\n",
       "  <thead>\n",
       "    <tr style=\"text-align: right;\">\n",
       "      <th></th>\n",
       "      <th>download</th>\n",
       "      <th>citing_q2th</th>\n",
       "      <th>submitted_2011</th>\n",
       "      <th>submitted_2012</th>\n",
       "      <th>submitted_2013</th>\n",
       "      <th>submitted_2014</th>\n",
       "      <th>submitted_2015</th>\n",
       "      <th>submitted_2016</th>\n",
       "      <th>submitted_2017</th>\n",
       "      <th>submitted_2018</th>\n",
       "      <th>...</th>\n",
       "      <th>abstract_lda_15</th>\n",
       "      <th>abstract_lda_16</th>\n",
       "      <th>abstract_lda_17</th>\n",
       "      <th>abstract_lda_18</th>\n",
       "      <th>abstract_lda_19</th>\n",
       "      <th>Indo</th>\n",
       "      <th>Mix</th>\n",
       "      <th>Non-Indo</th>\n",
       "      <th>Writers</th>\n",
       "      <th>FirstIndo</th>\n",
       "    </tr>\n",
       "  </thead>\n",
       "  <tbody>\n",
       "    <tr>\n",
       "      <th>0</th>\n",
       "      <td>6.920672</td>\n",
       "      <td>1</td>\n",
       "      <td>0</td>\n",
       "      <td>0</td>\n",
       "      <td>0</td>\n",
       "      <td>0</td>\n",
       "      <td>0</td>\n",
       "      <td>1</td>\n",
       "      <td>0</td>\n",
       "      <td>0</td>\n",
       "      <td>...</td>\n",
       "      <td>0</td>\n",
       "      <td>0</td>\n",
       "      <td>0</td>\n",
       "      <td>0</td>\n",
       "      <td>0</td>\n",
       "      <td>1</td>\n",
       "      <td>0</td>\n",
       "      <td>0</td>\n",
       "      <td>1</td>\n",
       "      <td>1</td>\n",
       "    </tr>\n",
       "    <tr>\n",
       "      <th>1</th>\n",
       "      <td>6.797942</td>\n",
       "      <td>1</td>\n",
       "      <td>0</td>\n",
       "      <td>0</td>\n",
       "      <td>0</td>\n",
       "      <td>0</td>\n",
       "      <td>0</td>\n",
       "      <td>1</td>\n",
       "      <td>0</td>\n",
       "      <td>0</td>\n",
       "      <td>...</td>\n",
       "      <td>0</td>\n",
       "      <td>0</td>\n",
       "      <td>0</td>\n",
       "      <td>0</td>\n",
       "      <td>0</td>\n",
       "      <td>0</td>\n",
       "      <td>0</td>\n",
       "      <td>1</td>\n",
       "      <td>3</td>\n",
       "      <td>0</td>\n",
       "    </tr>\n",
       "    <tr>\n",
       "      <th>2</th>\n",
       "      <td>6.701962</td>\n",
       "      <td>1</td>\n",
       "      <td>0</td>\n",
       "      <td>0</td>\n",
       "      <td>0</td>\n",
       "      <td>0</td>\n",
       "      <td>0</td>\n",
       "      <td>1</td>\n",
       "      <td>0</td>\n",
       "      <td>0</td>\n",
       "      <td>...</td>\n",
       "      <td>0</td>\n",
       "      <td>0</td>\n",
       "      <td>0</td>\n",
       "      <td>1</td>\n",
       "      <td>0</td>\n",
       "      <td>1</td>\n",
       "      <td>0</td>\n",
       "      <td>0</td>\n",
       "      <td>3</td>\n",
       "      <td>1</td>\n",
       "    </tr>\n",
       "    <tr>\n",
       "      <th>3</th>\n",
       "      <td>6.300788</td>\n",
       "      <td>1</td>\n",
       "      <td>0</td>\n",
       "      <td>0</td>\n",
       "      <td>0</td>\n",
       "      <td>0</td>\n",
       "      <td>0</td>\n",
       "      <td>0</td>\n",
       "      <td>1</td>\n",
       "      <td>0</td>\n",
       "      <td>...</td>\n",
       "      <td>0</td>\n",
       "      <td>0</td>\n",
       "      <td>0</td>\n",
       "      <td>0</td>\n",
       "      <td>0</td>\n",
       "      <td>0</td>\n",
       "      <td>0</td>\n",
       "      <td>1</td>\n",
       "      <td>3</td>\n",
       "      <td>0</td>\n",
       "    </tr>\n",
       "    <tr>\n",
       "      <th>4</th>\n",
       "      <td>6.669499</td>\n",
       "      <td>0</td>\n",
       "      <td>0</td>\n",
       "      <td>0</td>\n",
       "      <td>0</td>\n",
       "      <td>0</td>\n",
       "      <td>0</td>\n",
       "      <td>1</td>\n",
       "      <td>0</td>\n",
       "      <td>0</td>\n",
       "      <td>...</td>\n",
       "      <td>0</td>\n",
       "      <td>0</td>\n",
       "      <td>0</td>\n",
       "      <td>0</td>\n",
       "      <td>0</td>\n",
       "      <td>0</td>\n",
       "      <td>0</td>\n",
       "      <td>1</td>\n",
       "      <td>4</td>\n",
       "      <td>0</td>\n",
       "    </tr>\n",
       "    <tr>\n",
       "      <th>...</th>\n",
       "      <td>...</td>\n",
       "      <td>...</td>\n",
       "      <td>...</td>\n",
       "      <td>...</td>\n",
       "      <td>...</td>\n",
       "      <td>...</td>\n",
       "      <td>...</td>\n",
       "      <td>...</td>\n",
       "      <td>...</td>\n",
       "      <td>...</td>\n",
       "      <td>...</td>\n",
       "      <td>...</td>\n",
       "      <td>...</td>\n",
       "      <td>...</td>\n",
       "      <td>...</td>\n",
       "      <td>...</td>\n",
       "      <td>...</td>\n",
       "      <td>...</td>\n",
       "      <td>...</td>\n",
       "      <td>...</td>\n",
       "      <td>...</td>\n",
       "    </tr>\n",
       "    <tr>\n",
       "      <th>1020</th>\n",
       "      <td>1.791926</td>\n",
       "      <td>0</td>\n",
       "      <td>0</td>\n",
       "      <td>0</td>\n",
       "      <td>0</td>\n",
       "      <td>0</td>\n",
       "      <td>0</td>\n",
       "      <td>0</td>\n",
       "      <td>0</td>\n",
       "      <td>0</td>\n",
       "      <td>...</td>\n",
       "      <td>0</td>\n",
       "      <td>0</td>\n",
       "      <td>0</td>\n",
       "      <td>0</td>\n",
       "      <td>0</td>\n",
       "      <td>1</td>\n",
       "      <td>0</td>\n",
       "      <td>0</td>\n",
       "      <td>4</td>\n",
       "      <td>1</td>\n",
       "    </tr>\n",
       "    <tr>\n",
       "      <th>1021</th>\n",
       "      <td>1.386544</td>\n",
       "      <td>0</td>\n",
       "      <td>0</td>\n",
       "      <td>0</td>\n",
       "      <td>0</td>\n",
       "      <td>0</td>\n",
       "      <td>0</td>\n",
       "      <td>0</td>\n",
       "      <td>0</td>\n",
       "      <td>0</td>\n",
       "      <td>...</td>\n",
       "      <td>0</td>\n",
       "      <td>0</td>\n",
       "      <td>0</td>\n",
       "      <td>0</td>\n",
       "      <td>0</td>\n",
       "      <td>1</td>\n",
       "      <td>0</td>\n",
       "      <td>0</td>\n",
       "      <td>5</td>\n",
       "      <td>1</td>\n",
       "    </tr>\n",
       "    <tr>\n",
       "      <th>1022</th>\n",
       "      <td>1.946053</td>\n",
       "      <td>0</td>\n",
       "      <td>0</td>\n",
       "      <td>0</td>\n",
       "      <td>0</td>\n",
       "      <td>0</td>\n",
       "      <td>0</td>\n",
       "      <td>0</td>\n",
       "      <td>0</td>\n",
       "      <td>0</td>\n",
       "      <td>...</td>\n",
       "      <td>0</td>\n",
       "      <td>0</td>\n",
       "      <td>0</td>\n",
       "      <td>0</td>\n",
       "      <td>0</td>\n",
       "      <td>0</td>\n",
       "      <td>1</td>\n",
       "      <td>0</td>\n",
       "      <td>4</td>\n",
       "      <td>1</td>\n",
       "    </tr>\n",
       "    <tr>\n",
       "      <th>1023</th>\n",
       "      <td>1.098946</td>\n",
       "      <td>0</td>\n",
       "      <td>0</td>\n",
       "      <td>0</td>\n",
       "      <td>0</td>\n",
       "      <td>0</td>\n",
       "      <td>0</td>\n",
       "      <td>0</td>\n",
       "      <td>0</td>\n",
       "      <td>0</td>\n",
       "      <td>...</td>\n",
       "      <td>0</td>\n",
       "      <td>0</td>\n",
       "      <td>0</td>\n",
       "      <td>0</td>\n",
       "      <td>0</td>\n",
       "      <td>1</td>\n",
       "      <td>0</td>\n",
       "      <td>0</td>\n",
       "      <td>3</td>\n",
       "      <td>1</td>\n",
       "    </tr>\n",
       "    <tr>\n",
       "      <th>1024</th>\n",
       "      <td>1.609638</td>\n",
       "      <td>0</td>\n",
       "      <td>0</td>\n",
       "      <td>0</td>\n",
       "      <td>0</td>\n",
       "      <td>0</td>\n",
       "      <td>0</td>\n",
       "      <td>0</td>\n",
       "      <td>0</td>\n",
       "      <td>0</td>\n",
       "      <td>...</td>\n",
       "      <td>0</td>\n",
       "      <td>0</td>\n",
       "      <td>0</td>\n",
       "      <td>0</td>\n",
       "      <td>0</td>\n",
       "      <td>1</td>\n",
       "      <td>0</td>\n",
       "      <td>0</td>\n",
       "      <td>1</td>\n",
       "      <td>1</td>\n",
       "    </tr>\n",
       "  </tbody>\n",
       "</table>\n",
       "<p>1025 rows × 96 columns</p>\n",
       "</div>"
      ],
      "text/plain": [
       "      download  citing_q2th  submitted_2011  submitted_2012  submitted_2013  \\\n",
       "0     6.920672            1               0               0               0   \n",
       "1     6.797942            1               0               0               0   \n",
       "2     6.701962            1               0               0               0   \n",
       "3     6.300788            1               0               0               0   \n",
       "4     6.669499            0               0               0               0   \n",
       "...        ...          ...             ...             ...             ...   \n",
       "1020  1.791926            0               0               0               0   \n",
       "1021  1.386544            0               0               0               0   \n",
       "1022  1.946053            0               0               0               0   \n",
       "1023  1.098946            0               0               0               0   \n",
       "1024  1.609638            0               0               0               0   \n",
       "\n",
       "      submitted_2014  submitted_2015  submitted_2016  submitted_2017  \\\n",
       "0                  0               0               1               0   \n",
       "1                  0               0               1               0   \n",
       "2                  0               0               1               0   \n",
       "3                  0               0               0               1   \n",
       "4                  0               0               1               0   \n",
       "...              ...             ...             ...             ...   \n",
       "1020               0               0               0               0   \n",
       "1021               0               0               0               0   \n",
       "1022               0               0               0               0   \n",
       "1023               0               0               0               0   \n",
       "1024               0               0               0               0   \n",
       "\n",
       "      submitted_2018  ...  abstract_lda_15  abstract_lda_16  abstract_lda_17  \\\n",
       "0                  0  ...                0                0                0   \n",
       "1                  0  ...                0                0                0   \n",
       "2                  0  ...                0                0                0   \n",
       "3                  0  ...                0                0                0   \n",
       "4                  0  ...                0                0                0   \n",
       "...              ...  ...              ...              ...              ...   \n",
       "1020               0  ...                0                0                0   \n",
       "1021               0  ...                0                0                0   \n",
       "1022               0  ...                0                0                0   \n",
       "1023               0  ...                0                0                0   \n",
       "1024               0  ...                0                0                0   \n",
       "\n",
       "      abstract_lda_18  abstract_lda_19  Indo  Mix  Non-Indo  Writers  \\\n",
       "0                   0                0     1    0         0        1   \n",
       "1                   0                0     0    0         1        3   \n",
       "2                   1                0     1    0         0        3   \n",
       "3                   0                0     0    0         1        3   \n",
       "4                   0                0     0    0         1        4   \n",
       "...               ...              ...   ...  ...       ...      ...   \n",
       "1020                0                0     1    0         0        4   \n",
       "1021                0                0     1    0         0        5   \n",
       "1022                0                0     0    1         0        4   \n",
       "1023                0                0     1    0         0        3   \n",
       "1024                0                0     1    0         0        1   \n",
       "\n",
       "      FirstIndo  \n",
       "0             1  \n",
       "1             0  \n",
       "2             1  \n",
       "3             0  \n",
       "4             0  \n",
       "...         ...  \n",
       "1020          1  \n",
       "1021          1  \n",
       "1022          1  \n",
       "1023          1  \n",
       "1024          1  \n",
       "\n",
       "[1025 rows x 96 columns]"
      ]
     },
     "execution_count": 4,
     "metadata": {},
     "output_type": "execute_result"
    }
   ],
   "source": [
    "journal_table = pd.concat([journal_table_csv, nationality_csv], axis=1)\n",
    "journal_table"
   ]
  },
  {
   "cell_type": "raw",
   "metadata": {},
   "source": [
    "journal_table.to_csv(\"journal_table_csv.csv\",index=None)"
   ]
  },
  {
   "cell_type": "markdown",
   "metadata": {},
   "source": [
    "## Train Data"
   ]
  },
  {
   "cell_type": "code",
   "execution_count": 5,
   "metadata": {},
   "outputs": [],
   "source": [
    "X = journal_table.drop('citing_q2th', axis=1)\n",
    "y = journal_table['citing_q2th']"
   ]
  },
  {
   "cell_type": "code",
   "execution_count": 6,
   "metadata": {},
   "outputs": [],
   "source": [
    "from sklearn.model_selection import train_test_split"
   ]
  },
  {
   "cell_type": "code",
   "execution_count": 7,
   "metadata": {},
   "outputs": [],
   "source": [
    "X_train, X_test, y_train, y_test = train_test_split(X, y, test_size=0.3, random_state=2)"
   ]
  },
  {
   "cell_type": "code",
   "execution_count": 8,
   "metadata": {},
   "outputs": [],
   "source": [
    "from sklearn.linear_model import LogisticRegression"
   ]
  },
  {
   "cell_type": "code",
   "execution_count": 9,
   "metadata": {},
   "outputs": [],
   "source": [
    "lr = LogisticRegression(max_iter=10000)"
   ]
  },
  {
   "cell_type": "code",
   "execution_count": 10,
   "metadata": {},
   "outputs": [
    {
     "data": {
      "text/plain": [
       "LogisticRegression(max_iter=10000)"
      ]
     },
     "execution_count": 10,
     "metadata": {},
     "output_type": "execute_result"
    }
   ],
   "source": [
    "lr.fit(X_train, y_train)"
   ]
  },
  {
   "cell_type": "markdown",
   "metadata": {},
   "source": [
    "### ROC Curve"
   ]
  },
  {
   "cell_type": "code",
   "execution_count": 11,
   "metadata": {},
   "outputs": [],
   "source": [
    "from sklearn.metrics import roc_curve\n",
    "from sklearn.metrics import auc\n",
    "from sklearn.metrics import roc_auc_score"
   ]
  },
  {
   "cell_type": "code",
   "execution_count": 12,
   "metadata": {},
   "outputs": [],
   "source": [
    "# predict probabilities\n",
    "predict = lr.predict_proba(X_test)"
   ]
  },
  {
   "cell_type": "code",
   "execution_count": 13,
   "metadata": {},
   "outputs": [],
   "source": [
    "# keep probabilities for the positive outcome only\n",
    "predict = predict[:, 1]"
   ]
  },
  {
   "cell_type": "code",
   "execution_count": 14,
   "metadata": {},
   "outputs": [],
   "source": [
    "# calculate roc curves\n",
    "fpr, tpr, thresholds = roc_curve(y_test, predict)"
   ]
  },
  {
   "cell_type": "code",
   "execution_count": 15,
   "metadata": {},
   "outputs": [],
   "source": [
    "import matplotlib.pyplot as plt"
   ]
  },
  {
   "cell_type": "code",
   "execution_count": 16,
   "metadata": {},
   "outputs": [
    {
     "data": {
      "image/png": "[encoded data removed]",
      "text/plain": [
       "<Figure size 432x288 with 1 Axes>"
      ]
     },
     "metadata": {
      "needs_background": "light"
     },
     "output_type": "display_data"
    }
   ],
   "source": [
    "# plot the roc curve for the model\n",
    "plt.plot([0,1], [0,1], linestyle='--', label='No Skill')\n",
    "plt.plot(fpr, tpr, marker='.', label='Logistic')\n",
    "# axis labels\n",
    "plt.xlabel('False Positive Rate')\n",
    "plt.ylabel('True Positive Rate')\n",
    "plt.legend()\n",
    "# show the plot\n",
    "plt.show()"
   ]
  },
  {
   "cell_type": "code",
   "execution_count": 17,
   "metadata": {},
   "outputs": [
    {
     "data": {
      "text/plain": [
       "0.7241687922316195"
      ]
     },
     "execution_count": 17,
     "metadata": {},
     "output_type": "execute_result"
    }
   ],
   "source": [
    "lr_auc = roc_auc_score(y_test, predict)\n",
    "lr_auc"
   ]
  },
  {
   "cell_type": "code",
   "execution_count": 18,
   "metadata": {},
   "outputs": [],
   "source": [
    "from sklearn.metrics import confusion_matrix"
   ]
  },
  {
   "cell_type": "code",
   "execution_count": 19,
   "metadata": {},
   "outputs": [],
   "source": [
    "predict = lr.predict(X_test)"
   ]
  },
  {
   "cell_type": "code",
   "execution_count": 20,
   "metadata": {},
   "outputs": [],
   "source": [
    "cm = confusion_matrix(y_test, predict)"
   ]
  },
  {
   "cell_type": "code",
   "execution_count": 21,
   "metadata": {},
   "outputs": [
    {
     "data": {
      "text/plain": [
       "array([[ 59,  58],\n",
       "       [ 33, 158]])"
      ]
     },
     "execution_count": 21,
     "metadata": {},
     "output_type": "execute_result"
    }
   ],
   "source": [
    "cm"
   ]
  },
  {
   "cell_type": "code",
   "execution_count": 22,
   "metadata": {},
   "outputs": [],
   "source": [
    "from sklearn.metrics import classification_report"
   ]
  },
  {
   "cell_type": "code",
   "execution_count": 23,
   "metadata": {},
   "outputs": [
    {
     "name": "stdout",
     "output_type": "stream",
     "text": [
      "              precision    recall  f1-score   support\n",
      "\n",
      "           0       0.64      0.50      0.56       117\n",
      "           1       0.73      0.83      0.78       191\n",
      "\n",
      "    accuracy                           0.70       308\n",
      "   macro avg       0.69      0.67      0.67       308\n",
      "weighted avg       0.70      0.70      0.70       308\n",
      "\n"
     ]
    }
   ],
   "source": [
    "print(classification_report(y_test, predict))"
   ]
  },
  {
   "cell_type": "markdown",
   "metadata": {},
   "source": [
    "### Hyperparameter Tuning"
   ]
  },
  {
   "cell_type": "code",
   "execution_count": 35,
   "metadata": {},
   "outputs": [],
   "source": [
    "from sklearn.model_selection import GridSearchCV"
   ]
  },
  {
   "cell_type": "code",
   "execution_count": 36,
   "metadata": {},
   "outputs": [],
   "source": [
    "c_space = np.logspace(-20,10)\n",
    "param_grid = {'C': c_space}"
   ]
  },
  {
   "cell_type": "code",
   "execution_count": 37,
   "metadata": {},
   "outputs": [
    {
     "data": {
      "text/plain": [
       "array([1.00000000e-20, 4.09491506e-20, 1.67683294e-19, 6.86648845e-19,\n",
       "       2.81176870e-18, 1.15139540e-17, 4.71486636e-17, 1.93069773e-16,\n",
       "       7.90604321e-16, 3.23745754e-15, 1.32571137e-14, 5.42867544e-14,\n",
       "       2.22299648e-13, 9.10298178e-13, 3.72759372e-12, 1.52641797e-11,\n",
       "       6.25055193e-11, 2.55954792e-10, 1.04811313e-09, 4.29193426e-09,\n",
       "       1.75751062e-08, 7.19685673e-08, 2.94705170e-07, 1.20679264e-06,\n",
       "       4.94171336e-06, 2.02358965e-05, 8.28642773e-05, 3.39322177e-04,\n",
       "       1.38949549e-03, 5.68986603e-03, 2.32995181e-02, 9.54095476e-02,\n",
       "       3.90693994e-01, 1.59985872e+00, 6.55128557e+00, 2.68269580e+01,\n",
       "       1.09854114e+02, 4.49843267e+02, 1.84206997e+03, 7.54312006e+03,\n",
       "       3.08884360e+04, 1.26485522e+05, 5.17947468e+05, 2.12095089e+06,\n",
       "       8.68511374e+06, 3.55648031e+07, 1.45634848e+08, 5.96362332e+08,\n",
       "       2.44205309e+09, 1.00000000e+10])"
      ]
     },
     "execution_count": 37,
     "metadata": {},
     "output_type": "execute_result"
    }
   ],
   "source": [
    "c_space"
   ]
  },
  {
   "cell_type": "code",
   "execution_count": 38,
   "metadata": {},
   "outputs": [],
   "source": [
    "lr_cv = GridSearchCV(lr, param_grid, cv=10)"
   ]
  },
  {
   "cell_type": "code",
   "execution_count": 39,
   "metadata": {},
   "outputs": [
    {
     "data": {
      "text/plain": [
       "GridSearchCV(cv=10, estimator=LogisticRegression(max_iter=10000),\n",
       "             param_grid={'C': array([1.00000000e-20, 4.09491506e-20, 1.67683294e-19, 6.86648845e-19,\n",
       "       2.81176870e-18, 1.15139540e-17, 4.71486636e-17, 1.93069773e-16,\n",
       "       7.90604321e-16, 3.23745754e-15, 1.32571137e-14, 5.42867544e-14,\n",
       "       2.22299648e-13, 9.10298178e-13, 3.72759372e-12, 1.52641797e-11,\n",
       "       6.25055193e-11, 2.559547...\n",
       "       4.94171336e-06, 2.02358965e-05, 8.28642773e-05, 3.39322177e-04,\n",
       "       1.38949549e-03, 5.68986603e-03, 2.32995181e-02, 9.54095476e-02,\n",
       "       3.90693994e-01, 1.59985872e+00, 6.55128557e+00, 2.68269580e+01,\n",
       "       1.09854114e+02, 4.49843267e+02, 1.84206997e+03, 7.54312006e+03,\n",
       "       3.08884360e+04, 1.26485522e+05, 5.17947468e+05, 2.12095089e+06,\n",
       "       8.68511374e+06, 3.55648031e+07, 1.45634848e+08, 5.96362332e+08,\n",
       "       2.44205309e+09, 1.00000000e+10])})"
      ]
     },
     "execution_count": 39,
     "metadata": {},
     "output_type": "execute_result"
    }
   ],
   "source": [
    "lr_cv.fit(X_train, y_train)"
   ]
  },
  {
   "cell_type": "code",
   "execution_count": 40,
   "metadata": {
    "scrolled": true
   },
   "outputs": [
    {
     "name": "stdout",
     "output_type": "stream",
     "text": [
      "Tuned Logistic Regression Parameters: {'C': 0.09540954763499963}\n",
      "Best score is 0.7210876369327074\n"
     ]
    }
   ],
   "source": [
    "print(\"Tuned Logistic Regression Parameters: {}\".format(lr_cv.best_params_)) \n",
    "print(\"Best score is {}\".format(lr_cv.best_score_))"
   ]
  },
  {
   "cell_type": "markdown",
   "metadata": {},
   "source": [
    "### Using new hyperparameter"
   ]
  },
  {
   "cell_type": "code",
   "execution_count": 41,
   "metadata": {},
   "outputs": [],
   "source": [
    "lr = LogisticRegression(max_iter = 100000, C = 0.09540954763499963)"
   ]
  },
  {
   "cell_type": "code",
   "execution_count": 42,
   "metadata": {},
   "outputs": [
    {
     "data": {
      "text/plain": [
       "LogisticRegression(C=0.09540954763499963, max_iter=100000)"
      ]
     },
     "execution_count": 42,
     "metadata": {},
     "output_type": "execute_result"
    }
   ],
   "source": [
    "lr.fit(X_train, y_train)"
   ]
  },
  {
   "cell_type": "code",
   "execution_count": 43,
   "metadata": {},
   "outputs": [],
   "source": [
    "# predict probabilities\n",
    "predict = lr.predict_proba(X_test)\n",
    "\n",
    "# keep probabilities for the positive outcome only\n",
    "predict = predict[:, 1]\n",
    "\n",
    "# calculate roc curves\n",
    "fpr, tpr, thresholds = roc_curve(y_test, predict)"
   ]
  },
  {
   "cell_type": "code",
   "execution_count": 44,
   "metadata": {},
   "outputs": [
    {
     "data": {
      "image/png": "[encoded data removed]",
      "text/plain": [
       "<Figure size 432x288 with 1 Axes>"
      ]
     },
     "metadata": {
      "needs_background": "light"
     },
     "output_type": "display_data"
    }
   ],
   "source": [
    "# plot the roc curve for the model\n",
    "plt.plot([0,1], [0,1], linestyle='--', label='No Skill')\n",
    "plt.plot(fpr, tpr, marker='.', label='Logistic')\n",
    "# axis labels\n",
    "plt.xlabel('False Positive Rate')\n",
    "plt.ylabel('True Positive Rate')\n",
    "plt.legend()\n",
    "# show the plot\n",
    "plt.show()"
   ]
  },
  {
   "cell_type": "code",
   "execution_count": 45,
   "metadata": {},
   "outputs": [
    {
     "data": {
      "text/plain": [
       "0.7379066541370207"
      ]
     },
     "execution_count": 45,
     "metadata": {},
     "output_type": "execute_result"
    }
   ],
   "source": [
    "lr_auc = roc_auc_score(y_test, predict)\n",
    "lr_auc"
   ]
  },
  {
   "cell_type": "code",
   "execution_count": 46,
   "metadata": {},
   "outputs": [],
   "source": [
    "from sklearn.metrics import confusion_matrix"
   ]
  },
  {
   "cell_type": "code",
   "execution_count": 47,
   "metadata": {},
   "outputs": [],
   "source": [
    "predict = lr.predict(X_test)"
   ]
  },
  {
   "cell_type": "code",
   "execution_count": 48,
   "metadata": {},
   "outputs": [],
   "source": [
    "cm = confusion_matrix(y_test, predict)"
   ]
  },
  {
   "cell_type": "code",
   "execution_count": 49,
   "metadata": {},
   "outputs": [
    {
     "data": {
      "text/plain": [
       "array([[ 58,  59],\n",
       "       [ 27, 164]])"
      ]
     },
     "execution_count": 49,
     "metadata": {},
     "output_type": "execute_result"
    }
   ],
   "source": [
    "cm"
   ]
  },
  {
   "cell_type": "code",
   "execution_count": 50,
   "metadata": {},
   "outputs": [],
   "source": [
    "from sklearn.metrics import classification_report"
   ]
  },
  {
   "cell_type": "code",
   "execution_count": 51,
   "metadata": {},
   "outputs": [
    {
     "name": "stdout",
     "output_type": "stream",
     "text": [
      "              precision    recall  f1-score   support\n",
      "\n",
      "           0       0.68      0.50      0.57       117\n",
      "           1       0.74      0.86      0.79       191\n",
      "\n",
      "    accuracy                           0.72       308\n",
      "   macro avg       0.71      0.68      0.68       308\n",
      "weighted avg       0.72      0.72      0.71       308\n",
      "\n"
     ]
    }
   ],
   "source": [
    "print(classification_report(y_test, predict))"
   ]
  },
  {
   "cell_type": "code",
   "execution_count": null,
   "metadata": {},
   "outputs": [],
   "source": []
  },
  {
   "cell_type": "markdown",
   "metadata": {},
   "source": [
    "### 2nd Hyperparameter Tuning"
   ]
  },
  {
   "cell_type": "code",
   "execution_count": 90,
   "metadata": {},
   "outputs": [],
   "source": [
    "from sklearn.model_selection import GridSearchCV"
   ]
  },
  {
   "cell_type": "code",
   "execution_count": 91,
   "metadata": {},
   "outputs": [],
   "source": [
    "c_space = np.logspace(-2,-1)\n",
    "param_grid = {'C': c_space}"
   ]
  },
  {
   "cell_type": "code",
   "execution_count": 92,
   "metadata": {},
   "outputs": [
    {
     "data": {
      "text/plain": [
       "array([0.01      , 0.01048113, 0.01098541, 0.01151395, 0.01206793,\n",
       "       0.01264855, 0.01325711, 0.01389495, 0.01456348, 0.01526418,\n",
       "       0.01599859, 0.01676833, 0.01757511, 0.0184207 , 0.01930698,\n",
       "       0.0202359 , 0.02120951, 0.02222996, 0.02329952, 0.02442053,\n",
       "       0.02559548, 0.02682696, 0.02811769, 0.02947052, 0.03088844,\n",
       "       0.03237458, 0.03393222, 0.0355648 , 0.03727594, 0.0390694 ,\n",
       "       0.04094915, 0.04291934, 0.04498433, 0.04714866, 0.04941713,\n",
       "       0.05179475, 0.05428675, 0.05689866, 0.05963623, 0.06250552,\n",
       "       0.06551286, 0.06866488, 0.07196857, 0.0754312 , 0.07906043,\n",
       "       0.08286428, 0.08685114, 0.09102982, 0.09540955, 0.1       ])"
      ]
     },
     "execution_count": 92,
     "metadata": {},
     "output_type": "execute_result"
    }
   ],
   "source": [
    "c_space"
   ]
  },
  {
   "cell_type": "code",
   "execution_count": 93,
   "metadata": {},
   "outputs": [],
   "source": [
    "lr_cv = GridSearchCV(lr, param_grid, cv=10)"
   ]
  },
  {
   "cell_type": "code",
   "execution_count": 94,
   "metadata": {},
   "outputs": [
    {
     "data": {
      "text/plain": [
       "GridSearchCV(cv=10, estimator=LogisticRegression(C=0.049, max_iter=100000),\n",
       "             param_grid={'C': array([0.01      , 0.01048113, 0.01098541, 0.01151395, 0.01206793,\n",
       "       0.01264855, 0.01325711, 0.01389495, 0.01456348, 0.01526418,\n",
       "       0.01599859, 0.01676833, 0.01757511, 0.0184207 , 0.01930698,\n",
       "       0.0202359 , 0.02120951, 0.02222996, 0.02329952, 0.02442053,\n",
       "       0.02559548, 0.02682696, 0.02811769, 0.02947052, 0.03088844,\n",
       "       0.03237458, 0.03393222, 0.0355648 , 0.03727594, 0.0390694 ,\n",
       "       0.04094915, 0.04291934, 0.04498433, 0.04714866, 0.04941713,\n",
       "       0.05179475, 0.05428675, 0.05689866, 0.05963623, 0.06250552,\n",
       "       0.06551286, 0.06866488, 0.07196857, 0.0754312 , 0.07906043,\n",
       "       0.08286428, 0.08685114, 0.09102982, 0.09540955, 0.1       ])})"
      ]
     },
     "execution_count": 94,
     "metadata": {},
     "output_type": "execute_result"
    }
   ],
   "source": [
    "lr_cv.fit(X_train, y_train)"
   ]
  },
  {
   "cell_type": "code",
   "execution_count": 95,
   "metadata": {},
   "outputs": [
    {
     "name": "stdout",
     "output_type": "stream",
     "text": [
      "Tuned Logistic Regression Parameters: {'C': 0.04714866363457394}\n",
      "Best score is 0.7253521126760563\n"
     ]
    }
   ],
   "source": [
    "print(\"Tuned Logistic Regression Parameters: {}\".format(lr_cv.best_params_)) \n",
    "print(\"Best score is {}\".format(lr_cv.best_score_))"
   ]
  },
  {
   "cell_type": "code",
   "execution_count": null,
   "metadata": {},
   "outputs": [],
   "source": []
  },
  {
   "cell_type": "markdown",
   "metadata": {},
   "source": [
    "### Using new hyperparameter"
   ]
  },
  {
   "cell_type": "code",
   "execution_count": 40,
   "metadata": {},
   "outputs": [],
   "source": [
    "lr = LogisticRegression(max_iter = 100000, C = 0.04941713)"
   ]
  },
  {
   "cell_type": "code",
   "execution_count": 41,
   "metadata": {},
   "outputs": [
    {
     "data": {
      "text/plain": [
       "LogisticRegression(C=0.04941713, max_iter=100000)"
      ]
     },
     "execution_count": 41,
     "metadata": {},
     "output_type": "execute_result"
    }
   ],
   "source": [
    "lr.fit(X_train, y_train)"
   ]
  },
  {
   "cell_type": "code",
   "execution_count": 42,
   "metadata": {},
   "outputs": [],
   "source": [
    "# predict probabilities\n",
    "predict = lr.predict_proba(X_test)\n",
    "\n",
    "# keep probabilities for the positive outcome only\n",
    "predict = predict[:, 1]\n",
    "\n",
    "# calculate roc curves\n",
    "fpr, tpr, thresholds = roc_curve(y_test, predict)"
   ]
  },
  {
   "cell_type": "code",
   "execution_count": 43,
   "metadata": {},
   "outputs": [
    {
     "data": {
      "image/png": "[encoded data removed]",
      "text/plain": [
       "<Figure size 432x288 with 1 Axes>"
      ]
     },
     "metadata": {
      "needs_background": "light"
     },
     "output_type": "display_data"
    }
   ],
   "source": [
    "# plot the roc curve for the model\n",
    "plt.plot([0,1], [0,1], linestyle='--', label='No Skill')\n",
    "plt.plot(fpr, tpr, marker='.', label='Logistic')\n",
    "# axis labels\n",
    "plt.xlabel('False Positive Rate')\n",
    "plt.ylabel('True Positive Rate')\n",
    "plt.legend()\n",
    "# show the plot\n",
    "plt.show()"
   ]
  },
  {
   "cell_type": "code",
   "execution_count": 44,
   "metadata": {},
   "outputs": [
    {
     "data": {
      "text/plain": [
       "0.7414418042690294"
      ]
     },
     "execution_count": 44,
     "metadata": {},
     "output_type": "execute_result"
    }
   ],
   "source": [
    "lr_auc = roc_auc_score(y_test, predict)\n",
    "lr_auc"
   ]
  },
  {
   "cell_type": "code",
   "execution_count": 45,
   "metadata": {},
   "outputs": [],
   "source": [
    "from sklearn.metrics import confusion_matrix"
   ]
  },
  {
   "cell_type": "code",
   "execution_count": 46,
   "metadata": {},
   "outputs": [],
   "source": [
    "predict = lr.predict(X_test)"
   ]
  },
  {
   "cell_type": "code",
   "execution_count": 47,
   "metadata": {},
   "outputs": [],
   "source": [
    "cm = confusion_matrix(y_test, predict)"
   ]
  },
  {
   "cell_type": "code",
   "execution_count": 48,
   "metadata": {},
   "outputs": [
    {
     "data": {
      "text/plain": [
       "array([[ 59,  58],\n",
       "       [ 27, 164]])"
      ]
     },
     "execution_count": 48,
     "metadata": {},
     "output_type": "execute_result"
    }
   ],
   "source": [
    "cm"
   ]
  },
  {
   "cell_type": "code",
   "execution_count": 49,
   "metadata": {},
   "outputs": [],
   "source": [
    "from sklearn.metrics import classification_report"
   ]
  },
  {
   "cell_type": "code",
   "execution_count": 50,
   "metadata": {},
   "outputs": [
    {
     "name": "stdout",
     "output_type": "stream",
     "text": [
      "              precision    recall  f1-score   support\n",
      "\n",
      "           0       0.69      0.50      0.58       117\n",
      "           1       0.74      0.86      0.79       191\n",
      "\n",
      "    accuracy                           0.72       308\n",
      "   macro avg       0.71      0.68      0.69       308\n",
      "weighted avg       0.72      0.72      0.71       308\n",
      "\n"
     ]
    }
   ],
   "source": [
    "print(classification_report(y_test, predict))"
   ]
  },
  {
   "cell_type": "markdown",
   "metadata": {},
   "source": [
    "### Feature Importance"
   ]
  },
  {
   "cell_type": "code",
   "execution_count": 51,
   "metadata": {},
   "outputs": [],
   "source": [
    "from sklearn.datasets import make_classification"
   ]
  },
  {
   "cell_type": "code",
   "execution_count": 52,
   "metadata": {
    "scrolled": true
   },
   "outputs": [
    {
     "data": {
      "text/plain": [
       "LogisticRegression(C=0.04941713, max_iter=100000)"
      ]
     },
     "execution_count": 52,
     "metadata": {},
     "output_type": "execute_result"
    }
   ],
   "source": [
    "lr.fit(X_train, y_train)"
   ]
  },
  {
   "cell_type": "code",
   "execution_count": 53,
   "metadata": {},
   "outputs": [],
   "source": [
    "# get importance\n",
    "importance = lr.coef_[0]"
   ]
  },
  {
   "cell_type": "code",
   "execution_count": 54,
   "metadata": {},
   "outputs": [],
   "source": [
    "feature_importance = pd.DataFrame({'features':X_train.columns, 'importance':importance})"
   ]
  },
  {
   "cell_type": "code",
   "execution_count": 55,
   "metadata": {},
   "outputs": [
    {
     "data": {
      "text/html": [
       "<div>\n",
       "<style scoped>\n",
       "    .dataframe tbody tr th:only-of-type {\n",
       "        vertical-align: middle;\n",
       "    }\n",
       "\n",
       "    .dataframe tbody tr th {\n",
       "        vertical-align: top;\n",
       "    }\n",
       "\n",
       "    .dataframe thead th {\n",
       "        text-align: right;\n",
       "    }\n",
       "</style>\n",
       "<table border=\"1\" class=\"dataframe\">\n",
       "  <thead>\n",
       "    <tr style=\"text-align: right;\">\n",
       "      <th></th>\n",
       "      <th>features</th>\n",
       "      <th>importance</th>\n",
       "    </tr>\n",
       "  </thead>\n",
       "  <tbody>\n",
       "    <tr>\n",
       "      <th>0</th>\n",
       "      <td>download</td>\n",
       "      <td>0.574540</td>\n",
       "    </tr>\n",
       "    <tr>\n",
       "      <th>1</th>\n",
       "      <td>submitted_2011</td>\n",
       "      <td>0.000000</td>\n",
       "    </tr>\n",
       "    <tr>\n",
       "      <th>2</th>\n",
       "      <td>submitted_2012</td>\n",
       "      <td>-0.035373</td>\n",
       "    </tr>\n",
       "    <tr>\n",
       "      <th>3</th>\n",
       "      <td>submitted_2013</td>\n",
       "      <td>0.039957</td>\n",
       "    </tr>\n",
       "    <tr>\n",
       "      <th>4</th>\n",
       "      <td>submitted_2014</td>\n",
       "      <td>0.047067</td>\n",
       "    </tr>\n",
       "    <tr>\n",
       "      <th>...</th>\n",
       "      <td>...</td>\n",
       "      <td>...</td>\n",
       "    </tr>\n",
       "    <tr>\n",
       "      <th>90</th>\n",
       "      <td>Indo</td>\n",
       "      <td>0.001126</td>\n",
       "    </tr>\n",
       "    <tr>\n",
       "      <th>91</th>\n",
       "      <td>Mix</td>\n",
       "      <td>0.089907</td>\n",
       "    </tr>\n",
       "    <tr>\n",
       "      <th>92</th>\n",
       "      <td>Non-Indo</td>\n",
       "      <td>-0.094756</td>\n",
       "    </tr>\n",
       "    <tr>\n",
       "      <th>93</th>\n",
       "      <td>Writers</td>\n",
       "      <td>0.038529</td>\n",
       "    </tr>\n",
       "    <tr>\n",
       "      <th>94</th>\n",
       "      <td>FirstIndo</td>\n",
       "      <td>-0.089994</td>\n",
       "    </tr>\n",
       "  </tbody>\n",
       "</table>\n",
       "<p>95 rows × 2 columns</p>\n",
       "</div>"
      ],
      "text/plain": [
       "          features  importance\n",
       "0         download    0.574540\n",
       "1   submitted_2011    0.000000\n",
       "2   submitted_2012   -0.035373\n",
       "3   submitted_2013    0.039957\n",
       "4   submitted_2014    0.047067\n",
       "..             ...         ...\n",
       "90            Indo    0.001126\n",
       "91             Mix    0.089907\n",
       "92        Non-Indo   -0.094756\n",
       "93         Writers    0.038529\n",
       "94       FirstIndo   -0.089994\n",
       "\n",
       "[95 rows x 2 columns]"
      ]
     },
     "execution_count": 55,
     "metadata": {},
     "output_type": "execute_result"
    }
   ],
   "source": [
    "feature_importance"
   ]
  },
  {
   "cell_type": "code",
   "execution_count": 56,
   "metadata": {},
   "outputs": [],
   "source": [
    "pd.set_option(\"display.max_rows\", None, \"display.max_columns\", None)"
   ]
  },
  {
   "cell_type": "code",
   "execution_count": 57,
   "metadata": {},
   "outputs": [
    {
     "name": "stdout",
     "output_type": "stream",
     "text": [
      "Feature: 0, Column: download, Score: 0.57454\n",
      "Feature: 1, Column: submitted_2011, Score: 0.00000\n",
      "Feature: 2, Column: submitted_2012, Score: -0.03537\n",
      "Feature: 3, Column: submitted_2013, Score: 0.03996\n",
      "Feature: 4, Column: submitted_2014, Score: 0.04707\n",
      "Feature: 5, Column: submitted_2015, Score: 0.06505\n",
      "Feature: 6, Column: submitted_2016, Score: -0.09077\n",
      "Feature: 7, Column: submitted_2017, Score: 0.08983\n",
      "Feature: 8, Column: submitted_2018, Score: 0.18097\n",
      "Feature: 9, Column: submitted_2019, Score: -0.28491\n",
      "Feature: 10, Column: submitted_2020, Score: -0.01555\n",
      "Feature: 11, Column: published_2014, Score: 0.01267\n",
      "Feature: 12, Column: published_2015, Score: 0.03236\n",
      "Feature: 13, Column: published_2016, Score: 0.18120\n",
      "Feature: 14, Column: published_2017, Score: -0.10359\n",
      "Feature: 15, Column: published_2018, Score: 0.21076\n",
      "Feature: 16, Column: published_2019, Score: -0.11876\n",
      "Feature: 17, Column: published_2020, Score: -0.21648\n",
      "Feature: 18, Column: length, Score: 0.26717\n",
      "Feature: 19, Column: title_lda_weight, Score: 0.11923\n",
      "Feature: 20, Column: keyword_lda_weight, Score: -0.07766\n",
      "Feature: 21, Column: abstract_lda_weight, Score: -0.01471\n",
      "Feature: 22, Column: title_NoW, Score: 0.01001\n",
      "Feature: 23, Column: keywords_NoW, Score: 0.17051\n",
      "Feature: 24, Column: abstract_NoW, Score: -0.00011\n",
      "Feature: 25, Column: introduction_NoW, Score: -0.18638\n",
      "Feature: 26, Column: experimental_method_NoW, Score: 0.07021\n",
      "Feature: 27, Column: conclusion_NoW, Score: -0.01922\n",
      "Feature: 28, Column: acknowledgement_NoW, Score: 0.01157\n",
      "Feature: 29, Column: result_NoW, Score: 0.07809\n",
      "Feature: 30, Column: title_lda_0, Score: -0.14034\n",
      "Feature: 31, Column: title_lda_1, Score: -0.03200\n",
      "Feature: 32, Column: title_lda_2, Score: -0.16666\n",
      "Feature: 33, Column: title_lda_3, Score: 0.02734\n",
      "Feature: 34, Column: title_lda_4, Score: 0.00193\n",
      "Feature: 35, Column: title_lda_5, Score: 0.09742\n",
      "Feature: 36, Column: title_lda_6, Score: -0.06622\n",
      "Feature: 37, Column: title_lda_7, Score: -0.02175\n",
      "Feature: 38, Column: title_lda_8, Score: 0.01444\n",
      "Feature: 39, Column: title_lda_9, Score: 0.06855\n",
      "Feature: 40, Column: title_lda_10, Score: -0.08060\n",
      "Feature: 41, Column: title_lda_11, Score: 0.02090\n",
      "Feature: 42, Column: title_lda_12, Score: 0.07164\n",
      "Feature: 43, Column: title_lda_13, Score: 0.05223\n",
      "Feature: 44, Column: title_lda_14, Score: -0.04317\n",
      "Feature: 45, Column: title_lda_15, Score: -0.03968\n",
      "Feature: 46, Column: title_lda_16, Score: -0.00809\n",
      "Feature: 47, Column: title_lda_17, Score: 0.10221\n",
      "Feature: 48, Column: title_lda_18, Score: -0.01155\n",
      "Feature: 49, Column: title_lda_19, Score: 0.14967\n",
      "Feature: 50, Column: keyword_lda_0, Score: 0.00509\n",
      "Feature: 51, Column: keyword_lda_1, Score: 0.10162\n",
      "Feature: 52, Column: keyword_lda_2, Score: -0.08517\n",
      "Feature: 53, Column: keyword_lda_3, Score: 0.06421\n",
      "Feature: 54, Column: keyword_lda_4, Score: 0.08064\n",
      "Feature: 55, Column: keyword_lda_5, Score: 0.12867\n",
      "Feature: 56, Column: keyword_lda_6, Score: 0.08065\n",
      "Feature: 57, Column: keyword_lda_7, Score: -0.06239\n",
      "Feature: 58, Column: keyword_lda_8, Score: -0.03620\n",
      "Feature: 59, Column: keyword_lda_9, Score: -0.01169\n",
      "Feature: 60, Column: keyword_lda_10, Score: 0.03446\n",
      "Feature: 61, Column: keyword_lda_11, Score: -0.18198\n",
      "Feature: 62, Column: keyword_lda_12, Score: 0.01450\n",
      "Feature: 63, Column: keyword_lda_13, Score: 0.07659\n",
      "Feature: 64, Column: keyword_lda_14, Score: 0.04489\n",
      "Feature: 65, Column: keyword_lda_15, Score: 0.02004\n",
      "Feature: 66, Column: keyword_lda_16, Score: -0.13903\n",
      "Feature: 67, Column: keyword_lda_17, Score: -0.18854\n",
      "Feature: 68, Column: keyword_lda_18, Score: 0.03836\n",
      "Feature: 69, Column: keyword_lda_19, Score: 0.01157\n",
      "Feature: 70, Column: abstract_lda_0, Score: -0.09616\n",
      "Feature: 71, Column: abstract_lda_1, Score: -0.03305\n",
      "Feature: 72, Column: abstract_lda_2, Score: 0.06973\n",
      "Feature: 73, Column: abstract_lda_3, Score: -0.10368\n",
      "Feature: 74, Column: abstract_lda_4, Score: -0.00550\n",
      "Feature: 75, Column: abstract_lda_5, Score: -0.04142\n",
      "Feature: 76, Column: abstract_lda_6, Score: 0.15627\n",
      "Feature: 77, Column: abstract_lda_7, Score: -0.08473\n",
      "Feature: 78, Column: abstract_lda_8, Score: -0.04333\n",
      "Feature: 79, Column: abstract_lda_9, Score: 0.00190\n",
      "Feature: 80, Column: abstract_lda_10, Score: -0.06702\n",
      "Feature: 81, Column: abstract_lda_11, Score: 0.05304\n",
      "Feature: 82, Column: abstract_lda_12, Score: -0.00825\n",
      "Feature: 83, Column: abstract_lda_13, Score: -0.03848\n",
      "Feature: 84, Column: abstract_lda_14, Score: 0.01720\n",
      "Feature: 85, Column: abstract_lda_15, Score: 0.03229\n",
      "Feature: 86, Column: abstract_lda_16, Score: 0.03223\n",
      "Feature: 87, Column: abstract_lda_17, Score: 0.02906\n",
      "Feature: 88, Column: abstract_lda_18, Score: 0.15106\n",
      "Feature: 89, Column: abstract_lda_19, Score: -0.02487\n",
      "Feature: 90, Column: Indo, Score: 0.00113\n",
      "Feature: 91, Column: Mix, Score: 0.08991\n",
      "Feature: 92, Column: Non-Indo, Score: -0.09476\n",
      "Feature: 93, Column: Writers, Score: 0.03853\n",
      "Feature: 94, Column: FirstIndo, Score: -0.08999\n"
     ]
    }
   ],
   "source": [
    "# summarize feature importance\n",
    "for i, v in sorted(enumerate(importance)):\n",
    "\tprint('Feature: %0d, Column: %s, Score: %.5f' % (i,X_train.columns[i],v))"
   ]
  },
  {
   "cell_type": "code",
   "execution_count": 58,
   "metadata": {},
   "outputs": [],
   "source": [
    "fi_sorted = feature_importance.sort_values('importance')"
   ]
  },
  {
   "cell_type": "code",
   "execution_count": 61,
   "metadata": {},
   "outputs": [
    {
     "data": {
      "text/html": [
       "<div>\n",
       "<style scoped>\n",
       "    .dataframe tbody tr th:only-of-type {\n",
       "        vertical-align: middle;\n",
       "    }\n",
       "\n",
       "    .dataframe tbody tr th {\n",
       "        vertical-align: top;\n",
       "    }\n",
       "\n",
       "    .dataframe thead th {\n",
       "        text-align: right;\n",
       "    }\n",
       "</style>\n",
       "<table border=\"1\" class=\"dataframe\">\n",
       "  <thead>\n",
       "    <tr style=\"text-align: right;\">\n",
       "      <th></th>\n",
       "      <th>features</th>\n",
       "      <th>importance</th>\n",
       "    </tr>\n",
       "  </thead>\n",
       "  <tbody>\n",
       "    <tr>\n",
       "      <th>9</th>\n",
       "      <td>submitted_2019</td>\n",
       "      <td>-0.284912</td>\n",
       "    </tr>\n",
       "    <tr>\n",
       "      <th>17</th>\n",
       "      <td>published_2020</td>\n",
       "      <td>-0.216483</td>\n",
       "    </tr>\n",
       "    <tr>\n",
       "      <th>67</th>\n",
       "      <td>keyword_lda_17</td>\n",
       "      <td>-0.188543</td>\n",
       "    </tr>\n",
       "    <tr>\n",
       "      <th>25</th>\n",
       "      <td>introduction_NoW</td>\n",
       "      <td>-0.186383</td>\n",
       "    </tr>\n",
       "    <tr>\n",
       "      <th>61</th>\n",
       "      <td>keyword_lda_11</td>\n",
       "      <td>-0.181980</td>\n",
       "    </tr>\n",
       "    <tr>\n",
       "      <th>32</th>\n",
       "      <td>title_lda_2</td>\n",
       "      <td>-0.166658</td>\n",
       "    </tr>\n",
       "    <tr>\n",
       "      <th>30</th>\n",
       "      <td>title_lda_0</td>\n",
       "      <td>-0.140344</td>\n",
       "    </tr>\n",
       "    <tr>\n",
       "      <th>66</th>\n",
       "      <td>keyword_lda_16</td>\n",
       "      <td>-0.139032</td>\n",
       "    </tr>\n",
       "    <tr>\n",
       "      <th>16</th>\n",
       "      <td>published_2019</td>\n",
       "      <td>-0.118758</td>\n",
       "    </tr>\n",
       "    <tr>\n",
       "      <th>73</th>\n",
       "      <td>abstract_lda_3</td>\n",
       "      <td>-0.103678</td>\n",
       "    </tr>\n",
       "    <tr>\n",
       "      <th>14</th>\n",
       "      <td>published_2017</td>\n",
       "      <td>-0.103591</td>\n",
       "    </tr>\n",
       "    <tr>\n",
       "      <th>70</th>\n",
       "      <td>abstract_lda_0</td>\n",
       "      <td>-0.096165</td>\n",
       "    </tr>\n",
       "    <tr>\n",
       "      <th>92</th>\n",
       "      <td>Non-Indo</td>\n",
       "      <td>-0.094756</td>\n",
       "    </tr>\n",
       "    <tr>\n",
       "      <th>6</th>\n",
       "      <td>submitted_2016</td>\n",
       "      <td>-0.090768</td>\n",
       "    </tr>\n",
       "    <tr>\n",
       "      <th>94</th>\n",
       "      <td>FirstIndo</td>\n",
       "      <td>-0.089994</td>\n",
       "    </tr>\n",
       "    <tr>\n",
       "      <th>52</th>\n",
       "      <td>keyword_lda_2</td>\n",
       "      <td>-0.085167</td>\n",
       "    </tr>\n",
       "    <tr>\n",
       "      <th>77</th>\n",
       "      <td>abstract_lda_7</td>\n",
       "      <td>-0.084730</td>\n",
       "    </tr>\n",
       "    <tr>\n",
       "      <th>40</th>\n",
       "      <td>title_lda_10</td>\n",
       "      <td>-0.080599</td>\n",
       "    </tr>\n",
       "    <tr>\n",
       "      <th>20</th>\n",
       "      <td>keyword_lda_weight</td>\n",
       "      <td>-0.077661</td>\n",
       "    </tr>\n",
       "    <tr>\n",
       "      <th>80</th>\n",
       "      <td>abstract_lda_10</td>\n",
       "      <td>-0.067023</td>\n",
       "    </tr>\n",
       "    <tr>\n",
       "      <th>36</th>\n",
       "      <td>title_lda_6</td>\n",
       "      <td>-0.066222</td>\n",
       "    </tr>\n",
       "    <tr>\n",
       "      <th>57</th>\n",
       "      <td>keyword_lda_7</td>\n",
       "      <td>-0.062392</td>\n",
       "    </tr>\n",
       "    <tr>\n",
       "      <th>78</th>\n",
       "      <td>abstract_lda_8</td>\n",
       "      <td>-0.043332</td>\n",
       "    </tr>\n",
       "    <tr>\n",
       "      <th>44</th>\n",
       "      <td>title_lda_14</td>\n",
       "      <td>-0.043171</td>\n",
       "    </tr>\n",
       "    <tr>\n",
       "      <th>75</th>\n",
       "      <td>abstract_lda_5</td>\n",
       "      <td>-0.041424</td>\n",
       "    </tr>\n",
       "    <tr>\n",
       "      <th>45</th>\n",
       "      <td>title_lda_15</td>\n",
       "      <td>-0.039682</td>\n",
       "    </tr>\n",
       "    <tr>\n",
       "      <th>83</th>\n",
       "      <td>abstract_lda_13</td>\n",
       "      <td>-0.038484</td>\n",
       "    </tr>\n",
       "    <tr>\n",
       "      <th>58</th>\n",
       "      <td>keyword_lda_8</td>\n",
       "      <td>-0.036203</td>\n",
       "    </tr>\n",
       "    <tr>\n",
       "      <th>2</th>\n",
       "      <td>submitted_2012</td>\n",
       "      <td>-0.035373</td>\n",
       "    </tr>\n",
       "    <tr>\n",
       "      <th>71</th>\n",
       "      <td>abstract_lda_1</td>\n",
       "      <td>-0.033049</td>\n",
       "    </tr>\n",
       "    <tr>\n",
       "      <th>31</th>\n",
       "      <td>title_lda_1</td>\n",
       "      <td>-0.031998</td>\n",
       "    </tr>\n",
       "    <tr>\n",
       "      <th>89</th>\n",
       "      <td>abstract_lda_19</td>\n",
       "      <td>-0.024872</td>\n",
       "    </tr>\n",
       "    <tr>\n",
       "      <th>37</th>\n",
       "      <td>title_lda_7</td>\n",
       "      <td>-0.021755</td>\n",
       "    </tr>\n",
       "    <tr>\n",
       "      <th>27</th>\n",
       "      <td>conclusion_NoW</td>\n",
       "      <td>-0.019223</td>\n",
       "    </tr>\n",
       "    <tr>\n",
       "      <th>10</th>\n",
       "      <td>submitted_2020</td>\n",
       "      <td>-0.015549</td>\n",
       "    </tr>\n",
       "    <tr>\n",
       "      <th>21</th>\n",
       "      <td>abstract_lda_weight</td>\n",
       "      <td>-0.014712</td>\n",
       "    </tr>\n",
       "    <tr>\n",
       "      <th>59</th>\n",
       "      <td>keyword_lda_9</td>\n",
       "      <td>-0.011692</td>\n",
       "    </tr>\n",
       "    <tr>\n",
       "      <th>48</th>\n",
       "      <td>title_lda_18</td>\n",
       "      <td>-0.011547</td>\n",
       "    </tr>\n",
       "    <tr>\n",
       "      <th>82</th>\n",
       "      <td>abstract_lda_12</td>\n",
       "      <td>-0.008251</td>\n",
       "    </tr>\n",
       "    <tr>\n",
       "      <th>46</th>\n",
       "      <td>title_lda_16</td>\n",
       "      <td>-0.008092</td>\n",
       "    </tr>\n",
       "    <tr>\n",
       "      <th>74</th>\n",
       "      <td>abstract_lda_4</td>\n",
       "      <td>-0.005499</td>\n",
       "    </tr>\n",
       "    <tr>\n",
       "      <th>24</th>\n",
       "      <td>abstract_NoW</td>\n",
       "      <td>-0.000110</td>\n",
       "    </tr>\n",
       "    <tr>\n",
       "      <th>1</th>\n",
       "      <td>submitted_2011</td>\n",
       "      <td>0.000000</td>\n",
       "    </tr>\n",
       "    <tr>\n",
       "      <th>90</th>\n",
       "      <td>Indo</td>\n",
       "      <td>0.001126</td>\n",
       "    </tr>\n",
       "    <tr>\n",
       "      <th>79</th>\n",
       "      <td>abstract_lda_9</td>\n",
       "      <td>0.001904</td>\n",
       "    </tr>\n",
       "    <tr>\n",
       "      <th>34</th>\n",
       "      <td>title_lda_4</td>\n",
       "      <td>0.001935</td>\n",
       "    </tr>\n",
       "    <tr>\n",
       "      <th>50</th>\n",
       "      <td>keyword_lda_0</td>\n",
       "      <td>0.005088</td>\n",
       "    </tr>\n",
       "    <tr>\n",
       "      <th>22</th>\n",
       "      <td>title_NoW</td>\n",
       "      <td>0.010007</td>\n",
       "    </tr>\n",
       "    <tr>\n",
       "      <th>28</th>\n",
       "      <td>acknowledgement_NoW</td>\n",
       "      <td>0.011566</td>\n",
       "    </tr>\n",
       "    <tr>\n",
       "      <th>69</th>\n",
       "      <td>keyword_lda_19</td>\n",
       "      <td>0.011569</td>\n",
       "    </tr>\n",
       "    <tr>\n",
       "      <th>11</th>\n",
       "      <td>published_2014</td>\n",
       "      <td>0.012670</td>\n",
       "    </tr>\n",
       "    <tr>\n",
       "      <th>38</th>\n",
       "      <td>title_lda_8</td>\n",
       "      <td>0.014444</td>\n",
       "    </tr>\n",
       "    <tr>\n",
       "      <th>62</th>\n",
       "      <td>keyword_lda_12</td>\n",
       "      <td>0.014505</td>\n",
       "    </tr>\n",
       "    <tr>\n",
       "      <th>84</th>\n",
       "      <td>abstract_lda_14</td>\n",
       "      <td>0.017202</td>\n",
       "    </tr>\n",
       "    <tr>\n",
       "      <th>65</th>\n",
       "      <td>keyword_lda_15</td>\n",
       "      <td>0.020043</td>\n",
       "    </tr>\n",
       "    <tr>\n",
       "      <th>41</th>\n",
       "      <td>title_lda_11</td>\n",
       "      <td>0.020901</td>\n",
       "    </tr>\n",
       "    <tr>\n",
       "      <th>33</th>\n",
       "      <td>title_lda_3</td>\n",
       "      <td>0.027339</td>\n",
       "    </tr>\n",
       "    <tr>\n",
       "      <th>87</th>\n",
       "      <td>abstract_lda_17</td>\n",
       "      <td>0.029056</td>\n",
       "    </tr>\n",
       "    <tr>\n",
       "      <th>86</th>\n",
       "      <td>abstract_lda_16</td>\n",
       "      <td>0.032231</td>\n",
       "    </tr>\n",
       "    <tr>\n",
       "      <th>85</th>\n",
       "      <td>abstract_lda_15</td>\n",
       "      <td>0.032292</td>\n",
       "    </tr>\n",
       "    <tr>\n",
       "      <th>12</th>\n",
       "      <td>published_2015</td>\n",
       "      <td>0.032361</td>\n",
       "    </tr>\n",
       "    <tr>\n",
       "      <th>60</th>\n",
       "      <td>keyword_lda_10</td>\n",
       "      <td>0.034456</td>\n",
       "    </tr>\n",
       "    <tr>\n",
       "      <th>68</th>\n",
       "      <td>keyword_lda_18</td>\n",
       "      <td>0.038363</td>\n",
       "    </tr>\n",
       "    <tr>\n",
       "      <th>93</th>\n",
       "      <td>Writers</td>\n",
       "      <td>0.038529</td>\n",
       "    </tr>\n",
       "    <tr>\n",
       "      <th>3</th>\n",
       "      <td>submitted_2013</td>\n",
       "      <td>0.039957</td>\n",
       "    </tr>\n",
       "    <tr>\n",
       "      <th>64</th>\n",
       "      <td>keyword_lda_14</td>\n",
       "      <td>0.044888</td>\n",
       "    </tr>\n",
       "    <tr>\n",
       "      <th>4</th>\n",
       "      <td>submitted_2014</td>\n",
       "      <td>0.047067</td>\n",
       "    </tr>\n",
       "    <tr>\n",
       "      <th>43</th>\n",
       "      <td>title_lda_13</td>\n",
       "      <td>0.052235</td>\n",
       "    </tr>\n",
       "    <tr>\n",
       "      <th>81</th>\n",
       "      <td>abstract_lda_11</td>\n",
       "      <td>0.053038</td>\n",
       "    </tr>\n",
       "    <tr>\n",
       "      <th>53</th>\n",
       "      <td>keyword_lda_3</td>\n",
       "      <td>0.064209</td>\n",
       "    </tr>\n",
       "    <tr>\n",
       "      <th>5</th>\n",
       "      <td>submitted_2015</td>\n",
       "      <td>0.065054</td>\n",
       "    </tr>\n",
       "    <tr>\n",
       "      <th>39</th>\n",
       "      <td>title_lda_9</td>\n",
       "      <td>0.068551</td>\n",
       "    </tr>\n",
       "    <tr>\n",
       "      <th>72</th>\n",
       "      <td>abstract_lda_2</td>\n",
       "      <td>0.069732</td>\n",
       "    </tr>\n",
       "    <tr>\n",
       "      <th>26</th>\n",
       "      <td>experimental_method_NoW</td>\n",
       "      <td>0.070210</td>\n",
       "    </tr>\n",
       "    <tr>\n",
       "      <th>42</th>\n",
       "      <td>title_lda_12</td>\n",
       "      <td>0.071639</td>\n",
       "    </tr>\n",
       "    <tr>\n",
       "      <th>63</th>\n",
       "      <td>keyword_lda_13</td>\n",
       "      <td>0.076591</td>\n",
       "    </tr>\n",
       "    <tr>\n",
       "      <th>29</th>\n",
       "      <td>result_NoW</td>\n",
       "      <td>0.078093</td>\n",
       "    </tr>\n",
       "    <tr>\n",
       "      <th>54</th>\n",
       "      <td>keyword_lda_4</td>\n",
       "      <td>0.080640</td>\n",
       "    </tr>\n",
       "    <tr>\n",
       "      <th>56</th>\n",
       "      <td>keyword_lda_6</td>\n",
       "      <td>0.080646</td>\n",
       "    </tr>\n",
       "    <tr>\n",
       "      <th>7</th>\n",
       "      <td>submitted_2017</td>\n",
       "      <td>0.089830</td>\n",
       "    </tr>\n",
       "    <tr>\n",
       "      <th>91</th>\n",
       "      <td>Mix</td>\n",
       "      <td>0.089907</td>\n",
       "    </tr>\n",
       "    <tr>\n",
       "      <th>35</th>\n",
       "      <td>title_lda_5</td>\n",
       "      <td>0.097421</td>\n",
       "    </tr>\n",
       "    <tr>\n",
       "      <th>51</th>\n",
       "      <td>keyword_lda_1</td>\n",
       "      <td>0.101619</td>\n",
       "    </tr>\n",
       "    <tr>\n",
       "      <th>47</th>\n",
       "      <td>title_lda_17</td>\n",
       "      <td>0.102210</td>\n",
       "    </tr>\n",
       "    <tr>\n",
       "      <th>19</th>\n",
       "      <td>title_lda_weight</td>\n",
       "      <td>0.119229</td>\n",
       "    </tr>\n",
       "    <tr>\n",
       "      <th>55</th>\n",
       "      <td>keyword_lda_5</td>\n",
       "      <td>0.128667</td>\n",
       "    </tr>\n",
       "    <tr>\n",
       "      <th>49</th>\n",
       "      <td>title_lda_19</td>\n",
       "      <td>0.149668</td>\n",
       "    </tr>\n",
       "    <tr>\n",
       "      <th>88</th>\n",
       "      <td>abstract_lda_18</td>\n",
       "      <td>0.151063</td>\n",
       "    </tr>\n",
       "    <tr>\n",
       "      <th>76</th>\n",
       "      <td>abstract_lda_6</td>\n",
       "      <td>0.156266</td>\n",
       "    </tr>\n",
       "    <tr>\n",
       "      <th>23</th>\n",
       "      <td>keywords_NoW</td>\n",
       "      <td>0.170515</td>\n",
       "    </tr>\n",
       "    <tr>\n",
       "      <th>8</th>\n",
       "      <td>submitted_2018</td>\n",
       "      <td>0.180969</td>\n",
       "    </tr>\n",
       "    <tr>\n",
       "      <th>13</th>\n",
       "      <td>published_2016</td>\n",
       "      <td>0.181204</td>\n",
       "    </tr>\n",
       "    <tr>\n",
       "      <th>15</th>\n",
       "      <td>published_2018</td>\n",
       "      <td>0.210759</td>\n",
       "    </tr>\n",
       "    <tr>\n",
       "      <th>18</th>\n",
       "      <td>length</td>\n",
       "      <td>0.267165</td>\n",
       "    </tr>\n",
       "    <tr>\n",
       "      <th>0</th>\n",
       "      <td>download</td>\n",
       "      <td>0.574540</td>\n",
       "    </tr>\n",
       "  </tbody>\n",
       "</table>\n",
       "</div>"
      ],
      "text/plain": [
       "                   features  importance\n",
       "9            submitted_2019   -0.284912\n",
       "17           published_2020   -0.216483\n",
       "67           keyword_lda_17   -0.188543\n",
       "25         introduction_NoW   -0.186383\n",
       "61           keyword_lda_11   -0.181980\n",
       "32              title_lda_2   -0.166658\n",
       "30              title_lda_0   -0.140344\n",
       "66           keyword_lda_16   -0.139032\n",
       "16           published_2019   -0.118758\n",
       "73           abstract_lda_3   -0.103678\n",
       "14           published_2017   -0.103591\n",
       "70           abstract_lda_0   -0.096165\n",
       "92                 Non-Indo   -0.094756\n",
       "6            submitted_2016   -0.090768\n",
       "94                FirstIndo   -0.089994\n",
       "52            keyword_lda_2   -0.085167\n",
       "77           abstract_lda_7   -0.084730\n",
       "40             title_lda_10   -0.080599\n",
       "20       keyword_lda_weight   -0.077661\n",
       "80          abstract_lda_10   -0.067023\n",
       "36              title_lda_6   -0.066222\n",
       "57            keyword_lda_7   -0.062392\n",
       "78           abstract_lda_8   -0.043332\n",
       "44             title_lda_14   -0.043171\n",
       "75           abstract_lda_5   -0.041424\n",
       "45             title_lda_15   -0.039682\n",
       "83          abstract_lda_13   -0.038484\n",
       "58            keyword_lda_8   -0.036203\n",
       "2            submitted_2012   -0.035373\n",
       "71           abstract_lda_1   -0.033049\n",
       "31              title_lda_1   -0.031998\n",
       "89          abstract_lda_19   -0.024872\n",
       "37              title_lda_7   -0.021755\n",
       "27           conclusion_NoW   -0.019223\n",
       "10           submitted_2020   -0.015549\n",
       "21      abstract_lda_weight   -0.014712\n",
       "59            keyword_lda_9   -0.011692\n",
       "48             title_lda_18   -0.011547\n",
       "82          abstract_lda_12   -0.008251\n",
       "46             title_lda_16   -0.008092\n",
       "74           abstract_lda_4   -0.005499\n",
       "24             abstract_NoW   -0.000110\n",
       "1            submitted_2011    0.000000\n",
       "90                     Indo    0.001126\n",
       "79           abstract_lda_9    0.001904\n",
       "34              title_lda_4    0.001935\n",
       "50            keyword_lda_0    0.005088\n",
       "22                title_NoW    0.010007\n",
       "28      acknowledgement_NoW    0.011566\n",
       "69           keyword_lda_19    0.011569\n",
       "11           published_2014    0.012670\n",
       "38              title_lda_8    0.014444\n",
       "62           keyword_lda_12    0.014505\n",
       "84          abstract_lda_14    0.017202\n",
       "65           keyword_lda_15    0.020043\n",
       "41             title_lda_11    0.020901\n",
       "33              title_lda_3    0.027339\n",
       "87          abstract_lda_17    0.029056\n",
       "86          abstract_lda_16    0.032231\n",
       "85          abstract_lda_15    0.032292\n",
       "12           published_2015    0.032361\n",
       "60           keyword_lda_10    0.034456\n",
       "68           keyword_lda_18    0.038363\n",
       "93                  Writers    0.038529\n",
       "3            submitted_2013    0.039957\n",
       "64           keyword_lda_14    0.044888\n",
       "4            submitted_2014    0.047067\n",
       "43             title_lda_13    0.052235\n",
       "81          abstract_lda_11    0.053038\n",
       "53            keyword_lda_3    0.064209\n",
       "5            submitted_2015    0.065054\n",
       "39              title_lda_9    0.068551\n",
       "72           abstract_lda_2    0.069732\n",
       "26  experimental_method_NoW    0.070210\n",
       "42             title_lda_12    0.071639\n",
       "63           keyword_lda_13    0.076591\n",
       "29               result_NoW    0.078093\n",
       "54            keyword_lda_4    0.080640\n",
       "56            keyword_lda_6    0.080646\n",
       "7            submitted_2017    0.089830\n",
       "91                      Mix    0.089907\n",
       "35              title_lda_5    0.097421\n",
       "51            keyword_lda_1    0.101619\n",
       "47             title_lda_17    0.102210\n",
       "19         title_lda_weight    0.119229\n",
       "55            keyword_lda_5    0.128667\n",
       "49             title_lda_19    0.149668\n",
       "88          abstract_lda_18    0.151063\n",
       "76           abstract_lda_6    0.156266\n",
       "23             keywords_NoW    0.170515\n",
       "8            submitted_2018    0.180969\n",
       "13           published_2016    0.181204\n",
       "15           published_2018    0.210759\n",
       "18                   length    0.267165\n",
       "0                  download    0.574540"
      ]
     },
     "execution_count": 61,
     "metadata": {},
     "output_type": "execute_result"
    }
   ],
   "source": [
    "fi_sorted.head(95)"
   ]
  },
  {
   "cell_type": "code",
   "execution_count": 62,
   "metadata": {},
   "outputs": [
    {
     "data": {
      "image/png": "[encoded data removed]",
      "text/plain": [
       "<Figure size 2160x2160 with 1 Axes>"
      ]
     },
     "metadata": {
      "needs_background": "light"
     },
     "output_type": "display_data"
    }
   ],
   "source": [
    "# plot feature importance\n",
    "plt.figure(figsize=(30,30))\n",
    "plt.barh(fi_sorted['features'], fi_sorted['importance'])\n",
    "plt.show()"
   ]
  },
  {
   "cell_type": "code",
   "execution_count": 116,
   "metadata": {},
   "outputs": [],
   "source": [
    "fi_sorted.to_csv(\"fi_csv_new.csv\",index=None)"
   ]
  },
  {
   "cell_type": "markdown",
   "metadata": {},
   "source": [
    "# Part 3: Optimization"
   ]
  },
  {
   "cell_type": "code",
   "execution_count": 43,
   "metadata": {},
   "outputs": [],
   "source": [
    "from numpy.random import randn\n",
    "from numpy.random import rand"
   ]
  },
  {
   "cell_type": "code",
   "execution_count": 40,
   "metadata": {},
   "outputs": [
    {
     "name": "stdout",
     "output_type": "stream",
     "text": [
      "(1025, 95)\n"
     ]
    }
   ],
   "source": [
    "print(X.shape)"
   ]
  },
  {
   "cell_type": "code",
   "execution_count": 64,
   "metadata": {},
   "outputs": [],
   "source": [
    "solution = lr.coef_[0]"
   ]
  },
  {
   "cell_type": "code",
   "execution_count": 65,
   "metadata": {},
   "outputs": [
    {
     "data": {
      "text/plain": [
       "array([ 6.72788099e-01,  0.00000000e+00, -7.28725041e-02,  7.67464590e-02,\n",
       "        8.20631533e-02,  6.37662569e-02, -1.46553429e-01,  1.26745640e-01,\n",
       "        2.19052191e-01, -3.85746775e-01,  6.01162089e-03,  2.40830911e-02,\n",
       "        5.51734278e-02,  2.64704091e-01, -1.48896365e-01,  2.25228439e-01,\n",
       "       -1.56315871e-01, -2.99261235e-01,  4.15773583e-01,  2.17161598e-01,\n",
       "       -1.51027794e-01, -4.97424473e-02, -1.01930985e-02,  1.89411468e-01,\n",
       "       -9.10748030e-05, -1.86877115e-01,  5.41588893e-02, -1.75328155e-02,\n",
       "        2.77017147e-02,  9.05659332e-02, -2.17810324e-01, -5.10903547e-02,\n",
       "       -2.67069958e-01,  5.50830492e-02, -1.28383735e-03,  1.59913937e-01,\n",
       "       -9.17389661e-02, -4.72091622e-02,  1.97161844e-02,  8.22293361e-02,\n",
       "       -1.39939472e-01,  2.75800741e-02,  1.11221586e-01,  9.16439766e-02,\n",
       "       -6.49667588e-02, -6.06476965e-02, -1.93337516e-02,  1.69321670e-01,\n",
       "       -3.27731728e-02,  2.46366255e-01,  2.57613959e-02,  1.69685767e-01,\n",
       "       -1.44527480e-01,  1.16630717e-01,  1.43096989e-01,  2.11494000e-01,\n",
       "        1.26264510e-01, -1.03839020e-01, -6.08694357e-02, -1.52547787e-02,\n",
       "        5.44680766e-02, -3.15560379e-01,  2.05835594e-02,  1.25970541e-01,\n",
       "        6.60197447e-02,  2.97929720e-02, -2.18771093e-01, -3.30403436e-01,\n",
       "        4.48344513e-02,  2.38355125e-02, -1.11632069e-01, -5.41037928e-02,\n",
       "        1.00016305e-01, -1.74069019e-01, -1.54384315e-03, -7.75081386e-02,\n",
       "        2.66920593e-01, -1.48059061e-01, -6.82043356e-02, -1.89040606e-02,\n",
       "       -1.03224741e-01,  8.32964496e-02, -1.42732972e-02, -6.19607306e-02,\n",
       "        1.49645952e-02,  5.18594820e-02,  4.56518015e-02,  3.52815336e-02,\n",
       "        2.39612469e-01, -3.49075252e-02,  3.38385994e-02,  1.04618137e-01,\n",
       "       -1.69244123e-01,  3.28707366e-02, -1.80011225e-01])"
      ]
     },
     "execution_count": 65,
     "metadata": {},
     "output_type": "execute_result"
    }
   ],
   "source": [
    "solution"
   ]
  },
  {
   "cell_type": "code",
   "execution_count": 44,
   "metadata": {},
   "outputs": [],
   "source": [
    "#initial solution\n",
    "solution = rand(coef_num)"
   ]
  },
  {
   "cell_type": "code",
   "execution_count": 56,
   "metadata": {},
   "outputs": [],
   "source": [
    "#generating output predictions using model coefficients\n",
    "def predict_dataset(X):\n",
    "\tyhats = list()\n",
    "\tfor row in X:\n",
    "\t\t# make a prediction\n",
    "\t\tyhat = LogisticRegression(max_iter = 100000, C = 0.1)\n",
    "\t\t# store the prediction\n",
    "\t\tyhats.append(yhat)\n",
    "\treturn yhats"
   ]
  },
  {
   "cell_type": "code",
   "execution_count": 57,
   "metadata": {},
   "outputs": [],
   "source": [
    "# objective function\n",
    "def objective(X, y):\n",
    "\t# generate predictions for dataset\n",
    "\tyhat = predict_dataset(X)\n",
    "\t# round predictions to labels\n",
    "\tyhat = [round(y) for y in yhat]\n",
    "\t# calculate accuracy\n",
    "\tscore = accuracy_score(y, yhat)\n",
    "\treturn score"
   ]
  },
  {
   "cell_type": "code",
   "execution_count": null,
   "metadata": {},
   "outputs": [],
   "source": [
    "# hill climbing local search algorithm\n",
    "def hillclimbing(X, y, objective):\n",
    "\t# evaluate the initial point\n",
    "\tsolution_eval = objective(X, y, solution)\n",
    "    # max iter\n",
    "    n_iter = 10000\n",
    "    # step size\n",
    "    step_size = 0.1\n",
    "\t# run the hill climb\n",
    "\tfor i in range(n_iter):\n",
    "\t\t# take a step\n",
    "\t\tcandidate = solution + randn(len(solution)) * step_size\n",
    "\t\t# evaluate candidate point\n",
    "\t\tcandidte_eval = objective(X, y, candidate)\n",
    "\t\t# check if we should keep the new point\n",
    "\t\tif candidte_eval >= solution_eval:\n",
    "\t\t\t# store the new point\n",
    "\t\t\tsolution, solution_eval = candidate, candidte_eval\n",
    "\t\t\t# report progress\n",
    "\t\t\tprint('>%d %.5f' % (i, solution_eval))\n",
    "\treturn [solution, solution_eval]"
   ]
  },
  {
   "cell_type": "code",
   "execution_count": null,
   "metadata": {},
   "outputs": [],
   "source": [
    "1.\tMenentukan faktor apa saja yang diperkirakan berpengaruh besar pada popularitas paper\n",
    "2.\tMengkuantisasi besarnya pengaruh dari setiap faktor yang memengaruhi popularitas paper\n",
    "3.\tMenentukan parameter-parameter terbaik pada algoritma machine learning yang digunakan untuk mencapai tujuan 1 dan 2.\n"
   ]
  }
 ],
 "metadata": {
  "kernelspec": {
   "display_name": "Python 3",
   "language": "python",
   "name": "python3"
  },
  "language_info": {
   "codemirror_mode": {
    "name": "ipython",
    "version": 3
   },
   "file_extension": ".py",
   "mimetype": "text/x-python",
   "name": "python",
   "nbconvert_exporter": "python",
   "pygments_lexer": "ipython3",
   "version": "3.8.5"
  }
 },
 "nbformat": 4,
 "nbformat_minor": 4
}
